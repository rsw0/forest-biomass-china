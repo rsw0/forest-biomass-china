{
  "nbformat": 4,
  "nbformat_minor": 0,
  "metadata": {
    "colab": {
      "provenance": []
    },
    "kernelspec": {
      "name": "python3",
      "display_name": "Python 3"
    },
    "language_info": {
      "name": "python"
    }
  },
  "cells": [
    {
      "cell_type": "code",
      "execution_count": 73,
      "metadata": {
        "id": "XyGIuj5ROwzH"
      },
      "outputs": [],
      "source": [
        "import numpy as np\n",
        "import pandas as pd\n",
        "from sklearn.model_selection import train_test_split\n",
        "import missingno as msno\n",
        "import matplotlib.pyplot as plt\n",
        "import seaborn as sns\n",
        "from sklearn.impute import SimpleImputer\n",
        "from sklearn import preprocessing\n",
        "from sklearn.decomposition import PCA\n",
        "from sklearn.ensemble import RandomForestRegressor\n",
        "from sklearn.feature_selection import SelectKBest, mutual_info_classif\n",
        "import re"
      ]
    },
    {
      "cell_type": "code",
      "source": [
        "df = pd.read_csv('https://raw.githubusercontent.com/rsw0/forest-biomass-china/main/forest-biomass-china.csv')"
      ],
      "metadata": {
        "id": "SfpXH28ObUMA"
      },
      "execution_count": 74,
      "outputs": []
    },
    {
      "cell_type": "markdown",
      "source": [
        "# Train Test Split"
      ],
      "metadata": {
        "id": "Tu9PnrPsNAUH"
      }
    },
    {
      "cell_type": "code",
      "source": [
        "# Consider AGBt as the response variable, drop all rows (if any) where the response variable is NaN, because we can't predict nor inpute NaN response\n",
        "df = df[df['AGBt'].notna()]\n",
        "# note that no rows were removed since all rows of AGBt are not NaN. Can be checked using df.shape\n",
        "seed = 0\n",
        "X_train, X_validation, y_train, y_validation = train_test_split(df.drop(['AGBt'], axis=1), df['AGBt'], test_size=0.2, random_state=seed)"
      ],
      "metadata": {
        "id": "XYqsTlGsM_pW"
      },
      "execution_count": 75,
      "outputs": []
    },
    {
      "cell_type": "markdown",
      "source": [
        "# Preprocessing 1"
      ],
      "metadata": {
        "id": "bQgHOUZrOe1G"
      }
    },
    {
      "cell_type": "markdown",
      "source": [
        "### Typecasting"
      ],
      "metadata": {
        "id": "FyGn8Crck9sJ"
      }
    },
    {
      "cell_type": "code",
      "source": [
        "print('Before typecasting:')\n",
        "print(X_train.dtypes)\n",
        "print(y_train.dtypes)\n",
        "def typecasting(df):\n",
        "    \"\"\"\n",
        "    Stnad_density, Plot_dimension, Sample_size, and Tree_numbers are documented as int in the metadata\n",
        "    However, since they contain NaN values, they cannot be converted to int directly using astype()\n",
        "    They can only take the type float, as NaN has type float\n",
        "    --------------------------------------------------------\n",
        "    Stand_age and MMD contain special values (strings). More information from the metadata is included below\n",
        "\n",
        "    Stand_age:\n",
        "    In China, the age of a natural forest is generally defined as age since germination, and the age of a planted \n",
        "    forest is defined as age since planting. Stand age is usually obtained from historical records, or counting \n",
        "    tree rings from core samples of dominant tree species. Stand descriptions from original studies indicated that \n",
        "    trees of all-ages represented some natural forests, i.e., trees of all age classes (young to mature or overmature), \n",
        "    particularly primary forests. Therefore, stand age for these forests were denoted as 'All-aged' in the column \n",
        "    'Stand age' in our data set.\n",
        "\n",
        "    MMD:\n",
        "    According to the descriptions of stand measurement, the vast majority of original studies measured all trees \n",
        "    higher than breast height (1.3 m) within plots, and thus did not employ specified MMD values. In these studies \n",
        "    MMD values actually referred to the minimum DBH of trees higher than breast height. Therefore, MMD values in \n",
        "    these studies were denoted as 'Min DBH' in the column 'MMD' of our data set. \n",
        "    \"\"\"\n",
        "    df['Stand_age'] = df['Stand_age'].replace('All-aged',np.NaN)\n",
        "    df['MMD'] = df['MMD'].replace('Min DBH',np.NaN)\n",
        "    df = df.astype({'MAP': float, 'Stand_age': float, 'MMD': float})\n",
        "    return df\n",
        "\n",
        "X_train = typecasting(X_train)\n",
        "print()\n",
        "print()\n",
        "print()\n",
        "print('After typecasting')\n",
        "print(X_train.dtypes)"
      ],
      "metadata": {
        "colab": {
          "base_uri": "https://localhost:8080/"
        },
        "id": "6L3nhTDFOgAl",
        "outputId": "dd10f339-cf39-4957-d9d2-951d1b8653cf"
      },
      "execution_count": 76,
      "outputs": [
        {
          "output_type": "stream",
          "name": "stdout",
          "text": [
            "Before typecasting:\n",
            "ID                      int64\n",
            "Province               object\n",
            "Study_site             object\n",
            "Latitude              float64\n",
            "Longitude             float64\n",
            "Altitude                int64\n",
            "MAT                   float64\n",
            "MAP                     int64\n",
            "Soil_fertility         object\n",
            "Forest_type            object\n",
            "Dominant_species       object\n",
            "Stand_origin           object\n",
            "Stand_age              object\n",
            "MMD                    object\n",
            "Mean_DBH              float64\n",
            "Mean_height           float64\n",
            "Stand_density         float64\n",
            "GSV                   float64\n",
            "Plot_dimension        float64\n",
            "Sample_size           float64\n",
            "Method                 object\n",
            "Tree_numbers          float64\n",
            "Trees                 float64\n",
            "Wood                  float64\n",
            "Bark                  float64\n",
            "Stem                  float64\n",
            "Branch                float64\n",
            "Leaf                  float64\n",
            "Crown                 float64\n",
            "Reproduction          float64\n",
            "BGBt                  float64\n",
            "Understory            float64\n",
            "AGBu                  float64\n",
            "BGBu                  float64\n",
            "Shrub                 float64\n",
            "AGBs                  float64\n",
            "BGBs                  float64\n",
            "Floor                 float64\n",
            "AGBf                  float64\n",
            "BGBf                  float64\n",
            "Liana                 float64\n",
            "DOM                   float64\n",
            "Litterfall            float64\n",
            "Suspended_branches    float64\n",
            "Dead_trees            float64\n",
            "Sources                object\n",
            "dtype: object\n",
            "float64\n",
            "\n",
            "\n",
            "\n",
            "After typecasting\n",
            "ID                      int64\n",
            "Province               object\n",
            "Study_site             object\n",
            "Latitude              float64\n",
            "Longitude             float64\n",
            "Altitude                int64\n",
            "MAT                   float64\n",
            "MAP                   float64\n",
            "Soil_fertility         object\n",
            "Forest_type            object\n",
            "Dominant_species       object\n",
            "Stand_origin           object\n",
            "Stand_age             float64\n",
            "MMD                   float64\n",
            "Mean_DBH              float64\n",
            "Mean_height           float64\n",
            "Stand_density         float64\n",
            "GSV                   float64\n",
            "Plot_dimension        float64\n",
            "Sample_size           float64\n",
            "Method                 object\n",
            "Tree_numbers          float64\n",
            "Trees                 float64\n",
            "Wood                  float64\n",
            "Bark                  float64\n",
            "Stem                  float64\n",
            "Branch                float64\n",
            "Leaf                  float64\n",
            "Crown                 float64\n",
            "Reproduction          float64\n",
            "BGBt                  float64\n",
            "Understory            float64\n",
            "AGBu                  float64\n",
            "BGBu                  float64\n",
            "Shrub                 float64\n",
            "AGBs                  float64\n",
            "BGBs                  float64\n",
            "Floor                 float64\n",
            "AGBf                  float64\n",
            "BGBf                  float64\n",
            "Liana                 float64\n",
            "DOM                   float64\n",
            "Litterfall            float64\n",
            "Suspended_branches    float64\n",
            "Dead_trees            float64\n",
            "Sources                object\n",
            "dtype: object\n"
          ]
        }
      ]
    },
    {
      "cell_type": "markdown",
      "source": [
        "### Missing Data"
      ],
      "metadata": {
        "id": "mMNuHxRUlAMA"
      }
    },
    {
      "cell_type": "code",
      "source": [
        "def draw_na_chart(df):\n",
        "    na_chart = msno.matrix(df)\n",
        "    na_chart_copy = na_chart.get_figure()\n",
        "    plt.show()\n",
        "    na_count = df.isna().sum()\n",
        "    print(na_count)\n",
        "    return na_count\n",
        "na_count_output = draw_na_chart(X_train)"
      ],
      "metadata": {
        "colab": {
          "base_uri": "https://localhost:8080/",
          "height": 1000
        },
        "id": "nqEWOUsaYU2z",
        "outputId": "6c4bf150-64f6-47db-d8be-a1ff9e289972"
      },
      "execution_count": 77,
      "outputs": [
        {
          "output_type": "display_data",
          "data": {
            "text/plain": [
              "<Figure size 1800x720 with 2 Axes>"
            ],
            "image/png": "[encoded data removed]"
          },
          "metadata": {}
        },
        {
          "output_type": "stream",
          "name": "stdout",
          "text": [
            "ID                       0\n",
            "Province                 0\n",
            "Study_site               0\n",
            "Latitude                 0\n",
            "Longitude                0\n",
            "Altitude                 0\n",
            "MAT                      0\n",
            "MAP                      0\n",
            "Soil_fertility           0\n",
            "Forest_type              0\n",
            "Dominant_species         0\n",
            "Stand_origin             0\n",
            "Stand_age               40\n",
            "MMD                   1232\n",
            "Mean_DBH               385\n",
            "Mean_height            405\n",
            "Stand_density          240\n",
            "GSV                    381\n",
            "Plot_dimension         289\n",
            "Sample_size             95\n",
            "Method                   0\n",
            "Tree_numbers           785\n",
            "Trees                  368\n",
            "Wood                   623\n",
            "Bark                   623\n",
            "Stem                    10\n",
            "Branch                  46\n",
            "Leaf                    46\n",
            "Crown                   10\n",
            "Reproduction          1130\n",
            "BGBt                   368\n",
            "Understory             789\n",
            "AGBu                  1009\n",
            "BGBu                  1066\n",
            "Shrub                  951\n",
            "AGBs                  1058\n",
            "BGBs                  1121\n",
            "Floor                  951\n",
            "AGBf                  1074\n",
            "BGBf                  1137\n",
            "Liana                  732\n",
            "DOM                    817\n",
            "Litterfall             817\n",
            "Suspended_branches       0\n",
            "Dead_trees             815\n",
            "Sources                  0\n",
            "dtype: int64\n"
          ]
        }
      ]
    },
    {
      "cell_type": "code",
      "source": [
        "# dropping features where more than 80% of the dataset are NAs\n",
        "na_cutoff = X_train.shape[0]*0.1\n",
        "dropped_columns = list(na_count_output[na_count_output > na_cutoff].index)\n",
        "def remove_80(df):\n",
        "    df = df.drop(columns = dropped_columns)\n",
        "    na_count = df.isna().sum()\n",
        "    print(na_count)\n",
        "    return df\n",
        "X_train = remove_80(X_train)"
      ],
      "metadata": {
        "colab": {
          "base_uri": "https://localhost:8080/"
        },
        "id": "VcIl9YdGlx3X",
        "outputId": "95b0acec-954d-46c6-9613-153a88c2543e"
      },
      "execution_count": 78,
      "outputs": [
        {
          "output_type": "stream",
          "name": "stdout",
          "text": [
            "ID                     0\n",
            "Province               0\n",
            "Study_site             0\n",
            "Latitude               0\n",
            "Longitude              0\n",
            "Altitude               0\n",
            "MAT                    0\n",
            "MAP                    0\n",
            "Soil_fertility         0\n",
            "Forest_type            0\n",
            "Dominant_species       0\n",
            "Stand_origin           0\n",
            "Stand_age             40\n",
            "Sample_size           95\n",
            "Method                 0\n",
            "Stem                  10\n",
            "Branch                46\n",
            "Leaf                  46\n",
            "Crown                 10\n",
            "Suspended_branches     0\n",
            "Sources                0\n",
            "dtype: int64\n"
          ]
        }
      ]
    },
    {
      "cell_type": "code",
      "source": [
        "# dropping features that are redundant/not useful based on the metadata\n",
        "dropped_columns1 = ['ID', 'Province', 'Study_site', 'Sample_size', 'Method', 'Sources']\n",
        "def remove_useless(df):\n",
        "    df = df.drop(columns = dropped_columns1)\n",
        "    na_count = df.isna().sum()\n",
        "    print(na_count)\n",
        "    return df\n",
        "X_train = remove_useless(X_train)"
      ],
      "metadata": {
        "colab": {
          "base_uri": "https://localhost:8080/"
        },
        "id": "p4wg2jBO7geE",
        "outputId": "f576407b-aa42-4a14-877c-5f318ce7af3d"
      },
      "execution_count": 79,
      "outputs": [
        {
          "output_type": "stream",
          "name": "stdout",
          "text": [
            "Latitude               0\n",
            "Longitude              0\n",
            "Altitude               0\n",
            "MAT                    0\n",
            "MAP                    0\n",
            "Soil_fertility         0\n",
            "Forest_type            0\n",
            "Dominant_species       0\n",
            "Stand_origin           0\n",
            "Stand_age             40\n",
            "Stem                  10\n",
            "Branch                46\n",
            "Leaf                  46\n",
            "Crown                 10\n",
            "Suspended_branches     0\n",
            "dtype: int64\n"
          ]
        }
      ]
    },
    {
      "cell_type": "markdown",
      "source": [
        "### Inputation"
      ],
      "metadata": {
        "id": "iZ4VVWm9AwoT"
      }
    },
    {
      "cell_type": "code",
      "source": [
        "def impute(df):\n",
        "    # NOTE! Did median impute, as it is more robust to outliers and skewed distributions\n",
        "    continuous_columns = ['Latitude', 'Longitude', 'Altitude', 'MAT', 'MAP', 'Stand_age', 'Stem', 'Branch', 'Leaf', 'Crown', 'Suspended_branches']\n",
        "    median_list = []\n",
        "    print(df.shape)\n",
        "    for col_name in continuous_columns:\n",
        "        median = df[col_name].median()\n",
        "        df[col_name] = df[col_name].fillna(median)\n",
        "        median_list.append((col_name,median))\n",
        "    print(df.shape)\n",
        "    return df, median_list\n",
        "\n",
        "X_train, median_list = impute(X_train)\n",
        "print(X_train.isna().sum())"
      ],
      "metadata": {
        "id": "my8W1r3sAyUp",
        "colab": {
          "base_uri": "https://localhost:8080/"
        },
        "outputId": "28ddb9cd-3478-4be7-f579-876ce88109fa"
      },
      "execution_count": 80,
      "outputs": [
        {
          "output_type": "stream",
          "name": "stdout",
          "text": [
            "(1285, 15)\n",
            "(1285, 15)\n",
            "Latitude              0\n",
            "Longitude             0\n",
            "Altitude              0\n",
            "MAT                   0\n",
            "MAP                   0\n",
            "Soil_fertility        0\n",
            "Forest_type           0\n",
            "Dominant_species      0\n",
            "Stand_origin          0\n",
            "Stand_age             0\n",
            "Stem                  0\n",
            "Branch                0\n",
            "Leaf                  0\n",
            "Crown                 0\n",
            "Suspended_branches    0\n",
            "dtype: int64\n"
          ]
        }
      ]
    },
    {
      "cell_type": "markdown",
      "source": [
        "### Inconsistency (Duplicates)"
      ],
      "metadata": {
        "id": "ceJMPmAfc4Ax"
      }
    },
    {
      "cell_type": "code",
      "source": [
        "dup_bool = X_train.duplicated().to_numpy()\n",
        "np.any(dup_bool)\n",
        "dup_list = []\n",
        "for i in range(len(dup_bool)):\n",
        "    if dup_bool[i]:\n",
        "        dup_list.append(i)\n",
        "def dup_drop(df):\n",
        "    for i in dup_list:\n",
        "        df = df.drop(index=i)\n",
        "    return df\n",
        "X_train = dup_drop(X_train)\n",
        "y_train = dup_drop(y_train)"
      ],
      "metadata": {
        "id": "qlZ10mroc6_u"
      },
      "execution_count": 81,
      "outputs": []
    },
    {
      "cell_type": "markdown",
      "source": [
        "# EDA"
      ],
      "metadata": {
        "id": "T5a-DS--isAT"
      }
    },
    {
      "cell_type": "markdown",
      "source": [
        "### Scatterplot Matrix"
      ],
      "metadata": {
        "id": "_Y95_xcPityi"
      }
    },
    {
      "cell_type": "code",
      "source": [
        "sns.set_theme(style=\"ticks\")\n",
        "# train_df combines X and y\n",
        "train_df = X_train.copy()\n",
        "train_df['AGBt'] = y_train\n",
        "print(train_df.shape)\n",
        "# excluding four outliers for better visualization\n",
        "train_df = train_df[train_df['AGBt'] < 500]\n",
        "print(train_df.shape)\n",
        "#sns.pairplot(train_df[['Latitude', 'Longitude', 'Altitude', 'MAT', 'MAP', 'Stand_age', 'Stem', 'Branch', 'Leaf', 'Crown', 'Suspended_branches', 'AGBt']])"
      ],
      "metadata": {
        "colab": {
          "base_uri": "https://localhost:8080/"
        },
        "id": "f2EiKPBriwCn",
        "outputId": "a5fb6a69-d407-47d0-e822-688690bd9c38"
      },
      "execution_count": 82,
      "outputs": [
        {
          "output_type": "stream",
          "name": "stdout",
          "text": [
            "(1284, 16)\n",
            "(1280, 16)\n"
          ]
        }
      ]
    },
    {
      "cell_type": "markdown",
      "source": [
        "Note:\n",
        "1. Potential outliers in dataset, resulting the weird-looking histograms on the diagonals\n",
        "2. multicolinearity: latitude-(MAT, MAP), MAT-MAP, Branch-Crown\n",
        "3. some predictors and response appears to be linearly correlated, while others are not, suggesting potential non-linear models"
      ],
      "metadata": {
        "id": "QK6PsCmpiy04"
      }
    },
    {
      "cell_type": "markdown",
      "source": [
        "### Class Distributions"
      ],
      "metadata": {
        "id": "E9Ixvufzkij4"
      }
    },
    {
      "cell_type": "code",
      "source": [
        "for col in X_train[['Soil_fertility', 'Forest_type', 'Dominant_species', 'Stand_origin']]:\n",
        "    print(X_train[col].value_counts())\n",
        "    print()\n",
        "    print('--------------------------------------------------------------------------------------------------')"
      ],
      "metadata": {
        "colab": {
          "base_uri": "https://localhost:8080/"
        },
        "id": "dt8-ZHCIkjvk",
        "outputId": "f3f8f4ec-b993-4a92-e4d9-73130a6c30f4"
      },
      "execution_count": 83,
      "outputs": [
        {
          "output_type": "stream",
          "name": "stdout",
          "text": [
            "III    565\n",
            "II     270\n",
            "V      217\n",
            "I      130\n",
            "IV     102\n",
            "Name: Soil_fertility, dtype: int64\n",
            "\n",
            "--------------------------------------------------------------------------------------------------\n",
            "Pinus forest                               302\n",
            "Cunninghamia forest                        264\n",
            "Larix forest                                93\n",
            "Eucalyptus forest                           77\n",
            "Populus forest                              66\n",
            "Cunninghamia & broadleaved mixed forest     53\n",
            "Pinus & broadleaved mixed forest            37\n",
            "Quercus forest                              32\n",
            "Picea forest                                32\n",
            "Fokienia forest                             27\n",
            "Acacia forest                               25\n",
            "Castanopsis forest                          24\n",
            "Robinia forest                              22\n",
            "Evergreen broadleaved mixed forest          20\n",
            "Metasequoia forest                          17\n",
            "Betula forest                               17\n",
            "Cupressus forest                            16\n",
            "Evergreen coniferous mixed forest           16\n",
            "Deciduous broadleaved mixed forest          15\n",
            "Casuarina forest                            11\n",
            "Tropical monsoon rainforest                 11\n",
            "Phoebe forest                               10\n",
            "Taiwania forest                              9\n",
            "Platycladus forest                           8\n",
            "Cyclobalanopsis forest                       8\n",
            "Schima forest                                6\n",
            "Tropical rainforest                          6\n",
            "Abies forest                                 5\n",
            "Cryptomeria forest                           5\n",
            "Michelia forest                              5\n",
            "Alnus forest                                 4\n",
            "Sabina forest                                4\n",
            "Altingia forest                              2\n",
            "Zenia forest                                 2\n",
            "Liriodendron forest                          2\n",
            "Ormosia forest                               2\n",
            "Larix & broadleaved mixed forest             2\n",
            "Sassafras forest                             2\n",
            "Acer forest                                  2\n",
            "Liquidambar forest                           2\n",
            "Manglietia forest                            2\n",
            "Sloanea forest                               1\n",
            "Fokienia & broadleaved mixed forest          1\n",
            "Mytilaria forest                             1\n",
            "Tapiscia forest                              1\n",
            "Taiwania & broadleaved mixed forest          1\n",
            "Gordonia forest                              1\n",
            "Paramichelia forest                          1\n",
            "Quercus forest                               1\n",
            "Cinnamomum forest                            1\n",
            "Juglans forest                               1\n",
            "Keteleeria forest                            1\n",
            "Elaeocarpus forest                           1\n",
            "Paulownia forest                             1\n",
            "Alniphyllum forest                           1\n",
            "Machilus forest                              1\n",
            "Tsoongiodendron forest                       1\n",
            "Cercidiphyllum forest                        1\n",
            "Fraxinus forest                              1\n",
            "Lindera forest                               1\n",
            "Name: Forest_type, dtype: int64\n",
            "\n",
            "--------------------------------------------------------------------------------------------------\n",
            "C. lanceolata                                                                           264\n",
            "P. tabuliformis                                                                          98\n",
            "P. massoniana                                                                            94\n",
            "P. koraiensis                                                                            35\n",
            "L. gmelinii                                                                              33\n",
            "                                                                                       ... \n",
            "Cunninghamia lanceolata & Eucalyptus grandis × E. urophylla                               1\n",
            "Sassafras tzumu & Liquidambar formosana                                                   1\n",
            "Macaranga denticulata                                                                     1\n",
            "Pinus massoniana, Schima superba, Castanopsis kawakamii & Liquidambar formosana           1\n",
            "Schima superba, Engelhardtia roxburghiana, Schefflera octophylla & Castanopsis fissa      1\n",
            "Name: Dominant_species, Length: 256, dtype: int64\n",
            "\n",
            "--------------------------------------------------------------------------------------------------\n",
            "Planted      1045\n",
            "Secondary     125\n",
            "Primary       114\n",
            "Name: Stand_origin, dtype: int64\n",
            "\n",
            "--------------------------------------------------------------------------------------------------\n"
          ]
        }
      ]
    },
    {
      "cell_type": "markdown",
      "source": [
        "Note:\n",
        "1. Soil Fertility seems to be roughly evenly distributed, which is good because we don't need resampling techniques for classifiers to be useful\n",
        "2. The distribution of other categorical variable suggest we should look perform ANOVA and Tukey's HSD on them to potentially reduce them to binary variables"
      ],
      "metadata": {
        "id": "mP719GeVlvmR"
      }
    },
    {
      "cell_type": "markdown",
      "source": [
        "# Preprocessing 2"
      ],
      "metadata": {
        "id": "zn6M9YJmoF_Q"
      }
    },
    {
      "cell_type": "markdown",
      "source": [
        "### Transformations"
      ],
      "metadata": {
        "id": "wEa-eYfnoMNz"
      }
    },
    {
      "cell_type": "code",
      "source": [
        "from matplotlib.pyplot import figure\n",
        "\n",
        "figure(figsize=(8, 6), dpi=100)\n",
        "y_train.hist()\n",
        "y_train.hist(bins=100)"
      ],
      "metadata": {
        "colab": {
          "base_uri": "https://localhost:8080/",
          "height": 536
        },
        "id": "8jpeabrkoPyB",
        "outputId": "da475a3a-3d6a-440b-cd5c-5bb023d9f771"
      },
      "execution_count": 84,
      "outputs": [
        {
          "output_type": "execute_result",
          "data": {
            "text/plain": [
              "<matplotlib.axes._subplots.AxesSubplot at 0x7f628d24bc40>"
            ]
          },
          "metadata": {},
          "execution_count": 84
        },
        {
          "output_type": "display_data",
          "data": {
            "text/plain": [
              "<Figure size 800x600 with 1 Axes>"
            ],
            "image/png": "[encoded data removed]"
          },
          "metadata": {}
        }
      ]
    },
    {
      "cell_type": "markdown",
      "source": [
        "Note:\n",
        "1. potential outliers present\n",
        "2. skewed y"
      ],
      "metadata": {
        "id": "LmQY0nG7o5zJ"
      }
    },
    {
      "cell_type": "code",
      "source": [
        "def log_trans(col_name):\n",
        "    return np.log(col_name)\n",
        "y_train_log = log_trans(y_train)\n",
        "y_train_log.hist()\n",
        "y_train_log.hist(bins=100)"
      ],
      "metadata": {
        "colab": {
          "base_uri": "https://localhost:8080/",
          "height": 286
        },
        "id": "kIrln7XLrX2K",
        "outputId": "08ac73e0-e635-45ca-b078-85c810d17a3d"
      },
      "execution_count": 85,
      "outputs": [
        {
          "output_type": "execute_result",
          "data": {
            "text/plain": [
              "<matplotlib.axes._subplots.AxesSubplot at 0x7f628cbe28e0>"
            ]
          },
          "metadata": {},
          "execution_count": 85
        },
        {
          "output_type": "display_data",
          "data": {
            "text/plain": [
              "<Figure size 432x288 with 1 Axes>"
            ],
            "image/png": "[encoded data removed]"
          },
          "metadata": {}
        }
      ]
    },
    {
      "cell_type": "markdown",
      "source": [
        "### Outliers & Winsorizing"
      ],
      "metadata": {
        "id": "4BiY5Luzwt2W"
      }
    },
    {
      "cell_type": "code",
      "source": [
        "y_train_log.plot.box()"
      ],
      "metadata": {
        "colab": {
          "base_uri": "https://localhost:8080/",
          "height": 286
        },
        "id": "uj853LjCsc3K",
        "outputId": "23ce7d4e-1fa8-42df-f905-9bad88b27da8"
      },
      "execution_count": 86,
      "outputs": [
        {
          "output_type": "execute_result",
          "data": {
            "text/plain": [
              "<matplotlib.axes._subplots.AxesSubplot at 0x7f628ca63190>"
            ]
          },
          "metadata": {},
          "execution_count": 86
        },
        {
          "output_type": "display_data",
          "data": {
            "text/plain": [
              "<Figure size 432x288 with 1 Axes>"
            ],
            "image/png": "[encoded data removed]"
          },
          "metadata": {}
        }
      ]
    },
    {
      "cell_type": "code",
      "source": [
        "def detect_outliers_iqr(vec):\n",
        "    outliers = []\n",
        "    vec = sorted(vec)\n",
        "    q1 = np.percentile(vec, 25)\n",
        "    q3 = np.percentile(vec, 75)\n",
        "    print(q1, q3)\n",
        "    IQR = q3-q1\n",
        "    lwr_bound = q1-(1.5*IQR)\n",
        "    upr_bound = q3+(1.5*IQR)\n",
        "    print(lwr_bound, upr_bound)\n",
        "    for i in range(len(vec)): \n",
        "        if (vec[i]<lwr_bound or vec[i]>upr_bound):\n",
        "            outliers.append(i)\n",
        "    return outliers, lwr_bound, upr_bound\n",
        "\n",
        "outliers, lwr_bound, upr_bound = detect_outliers_iqr(y_train_log)\n",
        "print(\"Outliers from IQR method: \", outliers)\n",
        "print(len(outliers))"
      ],
      "metadata": {
        "colab": {
          "base_uri": "https://localhost:8080/"
        },
        "id": "YuPpCuhjuieH",
        "outputId": "450d5382-5491-4a7b-9751-eace5e5f0655"
      },
      "execution_count": 87,
      "outputs": [
        {
          "output_type": "stream",
          "name": "stdout",
          "text": [
            "3.759396118160845 4.784528812846478\n",
            "2.2216970761323953 6.322227854874928\n",
            "Outliers from IQR method:  [0, 1, 2, 3, 4, 5, 6, 7, 8, 9, 10, 11, 12, 13, 14, 15, 16, 17, 18, 19, 20, 21, 22, 23, 24, 25, 26, 27, 28, 1283]\n",
            "30\n"
          ]
        }
      ]
    },
    {
      "cell_type": "code",
      "source": [
        "''' \n",
        "note that this pandas series where method is different from np.where\n",
        "the first argument is a condition. If the condition evaluates to True\n",
        "then the value of that particular entry is not change\n",
        "If the condition evaluates to false, then replace that value with the\n",
        "second parameter \n",
        "'''\n",
        "y_train_log = y_train_log.where(y_train_log < upr_bound, upr_bound)\n",
        "y_train_log = y_train_log.where(y_train_log > lwr_bound, lwr_bound)\n",
        "y_train_log.plot.box()"
      ],
      "metadata": {
        "colab": {
          "base_uri": "https://localhost:8080/",
          "height": 286
        },
        "id": "s5V0qTISwyCZ",
        "outputId": "9d585355-f874-426d-f557-0692364a5a3c"
      },
      "execution_count": 88,
      "outputs": [
        {
          "output_type": "execute_result",
          "data": {
            "text/plain": [
              "<matplotlib.axes._subplots.AxesSubplot at 0x7f628c9ae850>"
            ]
          },
          "metadata": {},
          "execution_count": 88
        },
        {
          "output_type": "display_data",
          "data": {
            "text/plain": [
              "<Figure size 432x288 with 1 Axes>"
            ],
            "image/png": "[encoded data removed]"
          },
          "metadata": {}
        }
      ]
    },
    {
      "cell_type": "markdown",
      "source": [
        "### Standardization"
      ],
      "metadata": {
        "id": "ODGBtUIb0Mqd"
      }
    },
    {
      "cell_type": "code",
      "source": [
        "# It doesn't make sense to mean-center geo features and dividing by variance, \n",
        "# so we simply scale to within the same range as the standard scaler\n",
        "\n",
        "std_scaler = preprocessing.StandardScaler()\n",
        "minmax_scaler = preprocessing.MinMaxScaler(feature_range=(-1, 1))\n",
        "standardize_columns = ['MAT', 'MAP', 'Stand_age', 'Stem', 'Branch', 'Leaf', 'Crown', 'Suspended_branches']\n",
        "minmax_columns = ['Latitude', 'Longitude', 'Altitude']\n",
        "categorical_columns = ['Soil_fertility', 'Forest_type', 'Dominant_species', 'Stand_origin']\n",
        "# note that fit_transform retains the fit, so we can directly transform test set later by calling transform\n",
        "# see here:\n",
        "# https://datascience.stackexchange.com/questions/12321/whats-the-difference-between-fit-and-fit-transform-in-scikit-learn-models\n",
        "X_train[standardize_columns] = std_scaler.fit_transform(X_train[standardize_columns])\n",
        "X_train[minmax_columns] = minmax_scaler.fit_transform(X_train[minmax_columns])"
      ],
      "metadata": {
        "id": "DAitytnz0Qtl"
      },
      "execution_count": 89,
      "outputs": []
    },
    {
      "cell_type": "markdown",
      "source": [
        "# Feature Selection for AGBt"
      ],
      "metadata": {
        "id": "mOtQ19AzwYfJ"
      }
    },
    {
      "cell_type": "markdown",
      "source": [
        "### PCA"
      ],
      "metadata": {
        "id": "ID3jloV77QsM"
      }
    },
    {
      "cell_type": "code",
      "source": [
        "pca_train = PCA(n_components=2)\n",
        "# Similar as before, fit_transform stores the fit internally, so that we can call it later\n",
        "X_train_biomass_pca = pca_train.fit_transform(X_train[['Stem', 'Branch', 'Leaf', 'Crown']])\n",
        "print(pca_train.explained_variance_ratio_)\n",
        "print(pca_train.singular_values_)\n",
        "print(pca_train.components_)\n",
        "print(X_train_biomass_pca)"
      ],
      "metadata": {
        "colab": {
          "base_uri": "https://localhost:8080/"
        },
        "id": "xGdNPIPm4JR2",
        "outputId": "b20e3dee-2e5e-4df5-8841-a9fbec4820ca"
      },
      "execution_count": 90,
      "outputs": [
        {
          "output_type": "stream",
          "name": "stdout",
          "text": [
            "[0.70967577 0.18837346]\n",
            "[60.37296378 31.10443808]\n",
            "[[ 0.47019545  0.54191998  0.38682142  0.57931698]\n",
            " [-0.4315073  -0.28096348  0.85624377  0.04132291]]\n",
            "[[-0.93695206 -0.00787046]\n",
            " [-0.09562855  0.72748543]\n",
            " [-1.21655843  0.19599395]\n",
            " ...\n",
            " [-0.33551225  0.770831  ]\n",
            " [-0.08517974 -0.54370381]\n",
            " [-0.48264945  0.33010632]]\n"
          ]
        }
      ]
    },
    {
      "cell_type": "code",
      "source": [
        "def replace_with_pca(df, pca_comp):\n",
        "    # keep original features, select in R\n",
        "    # df = df.drop(columns = ['Stem', 'Branch', 'Leaf', 'Crown'])\n",
        "    df = df.reset_index(drop=True)\n",
        "    pca_comp_df = pd.DataFrame(pca_comp, columns = ['pca_0', 'pca_1'])\n",
        "    df = df.join(pca_comp_df)\n",
        "    return df\n",
        "\n",
        "X_train = replace_with_pca(X_train, X_train_biomass_pca)"
      ],
      "metadata": {
        "id": "nsGCiOXhV8yJ"
      },
      "execution_count": 91,
      "outputs": []
    },
    {
      "cell_type": "markdown",
      "source": [
        "### Random Forest Feature Importance"
      ],
      "metadata": {
        "id": "pVmmxHz1oXWu"
      }
    },
    {
      "cell_type": "code",
      "source": [
        "model = RandomForestRegressor(n_estimators=1000)\n",
        "model.fit(X_train[['Latitude', 'Longitude', 'Altitude', 'MAT', 'MAP', 'Stand_age', 'Suspended_branches']], y_train_log)\n",
        "importance = model.feature_importances_\n",
        "for i,v in enumerate(importance):\n",
        "\tprint('Feature: %0d, Score: %.5f' % (i,v))\n",
        "plt.bar([x for x in range(len(importance))], importance)\n",
        "plt.show()\n",
        "plt.savefig('rf_feature_importance.png', dpi=300)"
      ],
      "metadata": {
        "colab": {
          "base_uri": "https://localhost:8080/",
          "height": 415
        },
        "id": "03w5xrOkoZ9s",
        "outputId": "9cec58de-fed1-4c72-c4bf-8b3d14c64816"
      },
      "execution_count": 92,
      "outputs": [
        {
          "output_type": "stream",
          "name": "stdout",
          "text": [
            "Feature: 0, Score: 0.10075\n",
            "Feature: 1, Score: 0.07168\n",
            "Feature: 2, Score: 0.09046\n",
            "Feature: 3, Score: 0.07490\n",
            "Feature: 4, Score: 0.17052\n",
            "Feature: 5, Score: 0.47559\n",
            "Feature: 6, Score: 0.01611\n"
          ]
        },
        {
          "output_type": "display_data",
          "data": {
            "text/plain": [
              "<Figure size 432x288 with 1 Axes>"
            ],
            "image/png": "[encoded data removed]"
          },
          "metadata": {}
        },
        {
          "output_type": "display_data",
          "data": {
            "text/plain": [
              "<Figure size 432x288 with 0 Axes>"
            ]
          },
          "metadata": {}
        }
      ]
    },
    {
      "cell_type": "code",
      "source": [
        "def remove_suspended_branch(df):\n",
        "    df = df.drop(columns = ['Suspended_branches'])\n",
        "    return df\n",
        "X_train = remove_suspended_branch(X_train)"
      ],
      "metadata": {
        "id": "O7Ka2suytOid"
      },
      "execution_count": 93,
      "outputs": []
    },
    {
      "cell_type": "markdown",
      "source": [
        "### Categorical Collapse"
      ],
      "metadata": {
        "id": "LhNTapoej7Gq"
      }
    },
    {
      "cell_type": "code",
      "source": [
        "for elem in categorical_columns:\n",
        "    print(X_train[elem].value_counts())\n",
        "    print(X_train[elem].nunique())\n",
        "print(X_train['Dominant_species'].value_counts())"
      ],
      "metadata": {
        "colab": {
          "base_uri": "https://localhost:8080/"
        },
        "id": "mZPtGd8enU-o",
        "outputId": "95a08fc5-f3ab-4fad-edbb-de1bdcf8014b"
      },
      "execution_count": 94,
      "outputs": [
        {
          "output_type": "stream",
          "name": "stdout",
          "text": [
            "III    565\n",
            "II     270\n",
            "V      217\n",
            "I      130\n",
            "IV     102\n",
            "Name: Soil_fertility, dtype: int64\n",
            "5\n",
            "Pinus forest                               302\n",
            "Cunninghamia forest                        264\n",
            "Larix forest                                93\n",
            "Eucalyptus forest                           77\n",
            "Populus forest                              66\n",
            "Cunninghamia & broadleaved mixed forest     53\n",
            "Pinus & broadleaved mixed forest            37\n",
            "Quercus forest                              32\n",
            "Picea forest                                32\n",
            "Fokienia forest                             27\n",
            "Acacia forest                               25\n",
            "Castanopsis forest                          24\n",
            "Robinia forest                              22\n",
            "Evergreen broadleaved mixed forest          20\n",
            "Metasequoia forest                          17\n",
            "Betula forest                               17\n",
            "Cupressus forest                            16\n",
            "Evergreen coniferous mixed forest           16\n",
            "Deciduous broadleaved mixed forest          15\n",
            "Casuarina forest                            11\n",
            "Tropical monsoon rainforest                 11\n",
            "Phoebe forest                               10\n",
            "Taiwania forest                              9\n",
            "Platycladus forest                           8\n",
            "Cyclobalanopsis forest                       8\n",
            "Schima forest                                6\n",
            "Tropical rainforest                          6\n",
            "Abies forest                                 5\n",
            "Cryptomeria forest                           5\n",
            "Michelia forest                              5\n",
            "Alnus forest                                 4\n",
            "Sabina forest                                4\n",
            "Altingia forest                              2\n",
            "Zenia forest                                 2\n",
            "Liriodendron forest                          2\n",
            "Ormosia forest                               2\n",
            "Larix & broadleaved mixed forest             2\n",
            "Sassafras forest                             2\n",
            "Acer forest                                  2\n",
            "Liquidambar forest                           2\n",
            "Manglietia forest                            2\n",
            "Sloanea forest                               1\n",
            "Fokienia & broadleaved mixed forest          1\n",
            "Mytilaria forest                             1\n",
            "Tapiscia forest                              1\n",
            "Taiwania & broadleaved mixed forest          1\n",
            "Gordonia forest                              1\n",
            "Paramichelia forest                          1\n",
            "Quercus forest                               1\n",
            "Cinnamomum forest                            1\n",
            "Juglans forest                               1\n",
            "Keteleeria forest                            1\n",
            "Elaeocarpus forest                           1\n",
            "Paulownia forest                             1\n",
            "Alniphyllum forest                           1\n",
            "Machilus forest                              1\n",
            "Tsoongiodendron forest                       1\n",
            "Cercidiphyllum forest                        1\n",
            "Fraxinus forest                              1\n",
            "Lindera forest                               1\n",
            "Name: Forest_type, dtype: int64\n",
            "60\n",
            "C. lanceolata                                                                           264\n",
            "P. tabuliformis                                                                          98\n",
            "P. massoniana                                                                            94\n",
            "P. koraiensis                                                                            35\n",
            "L. gmelinii                                                                              33\n",
            "                                                                                       ... \n",
            "Cunninghamia lanceolata & Eucalyptus grandis × E. urophylla                               1\n",
            "Sassafras tzumu & Liquidambar formosana                                                   1\n",
            "Macaranga denticulata                                                                     1\n",
            "Pinus massoniana, Schima superba, Castanopsis kawakamii & Liquidambar formosana           1\n",
            "Schima superba, Engelhardtia roxburghiana, Schefflera octophylla & Castanopsis fissa      1\n",
            "Name: Dominant_species, Length: 256, dtype: int64\n",
            "256\n",
            "Planted      1045\n",
            "Secondary     125\n",
            "Primary       114\n",
            "Name: Stand_origin, dtype: int64\n",
            "3\n",
            "C. lanceolata                                                                           264\n",
            "P. tabuliformis                                                                          98\n",
            "P. massoniana                                                                            94\n",
            "P. koraiensis                                                                            35\n",
            "L. gmelinii                                                                              33\n",
            "                                                                                       ... \n",
            "Cunninghamia lanceolata & Eucalyptus grandis × E. urophylla                               1\n",
            "Sassafras tzumu & Liquidambar formosana                                                   1\n",
            "Macaranga denticulata                                                                     1\n",
            "Pinus massoniana, Schima superba, Castanopsis kawakamii & Liquidambar formosana           1\n",
            "Schima superba, Engelhardtia roxburghiana, Schefflera octophylla & Castanopsis fissa      1\n",
            "Name: Dominant_species, Length: 256, dtype: int64\n"
          ]
        }
      ]
    },
    {
      "cell_type": "code",
      "source": [
        "def forest_collapse(df):\n",
        "    forest_list = df['Forest_type'].to_numpy()\n",
        "    for i in range(len(forest_list)):\n",
        "        if forest_list[i] not in ['Pinus forest', 'Cunninghamia forest', 'Larix forest', 'Eucalyptus forest', 'Populus forest']:\n",
        "            forest_list[i] = 'Other'\n",
        "    df['Forest_type'] = forest_list\n",
        "    return df\n",
        "X_train = forest_collapse(X_train)\n",
        "\n",
        "def species_collapse(df):\n",
        "    species_list = df['Dominant_species'].to_numpy()\n",
        "    for i in range(len(species_list)):\n",
        "        if species_list[i] not in ['C. lanceolata', 'P. tabuliformis', 'P. massoniana', 'P. koraiensis', 'L. gmelinii']:\n",
        "            species_list[i] = 'Other'\n",
        "    df['Dominant_species'] = species_list\n",
        "    return df\n",
        "X_train = species_collapse(X_train)"
      ],
      "metadata": {
        "id": "qEZVpL5BpSLc"
      },
      "execution_count": 95,
      "outputs": []
    },
    {
      "cell_type": "markdown",
      "source": [
        "### One-Hot Encoding"
      ],
      "metadata": {
        "id": "679nIMZVsqJz"
      }
    },
    {
      "cell_type": "code",
      "source": [
        "def categorical_onehot(df, col_list):\n",
        "    for original_col_name in col_list:\n",
        "        dummy_df = pd.get_dummies(df[original_col_name])\n",
        "        old_col_names = dummy_df.columns\n",
        "        new_col_names = []\n",
        "        for elem in old_col_names:\n",
        "            if elem == 'Other':\n",
        "                new_col_names.append(elem+'_'+original_col_name)\n",
        "            else:\n",
        "                new_col_names.append(elem.replace(\" \", \"_\"))\n",
        "        rename_dict = dict(zip(old_col_names, new_col_names))\n",
        "        # keeping the original column as output, for Tukey HSD in R\n",
        "        # df = df.drop(columns = [original_col_name])\n",
        "        df = df.join(dummy_df)\n",
        "        df = df.rename(columns=rename_dict)\n",
        "    return df\n",
        "X_train = categorical_onehot(X_train, categorical_columns)"
      ],
      "metadata": {
        "id": "WJQn3ThKs9w7"
      },
      "execution_count": 96,
      "outputs": []
    },
    {
      "cell_type": "markdown",
      "source": [
        "### Applying the same transformations above to the validation set"
      ],
      "metadata": {
        "id": "lsK1A0pc2mPG"
      }
    },
    {
      "cell_type": "code",
      "source": [
        "X_validation = typecasting(X_validation)\n",
        "X_validation = remove_80(X_validation)\n",
        "X_validation = remove_useless(X_validation)\n",
        "\n",
        "# impute should use the median obtained from training\n",
        "def impute_validation(df, median_list):\n",
        "    # NOTE! Did median impute, as it is more robust to outliers and skewed distributions\n",
        "    print(df.shape)\n",
        "    for i in range(len(median_list)):\n",
        "        df[median_list[i][0]] = df[median_list[i][0]].fillna(median_list[i][1])\n",
        "    print(df.shape)\n",
        "    return df\n",
        "X_validation = impute_validation(X_validation, median_list)\n",
        "\n",
        "# standardization of test set should also use the scaler obtained by fitting on the training set\n",
        "# see here:\n",
        "# https://stackoverflow.com/questions/49444262/normalize-data-before-or-after-split-of-training-and-testing-data\n",
        "X_validation[standardize_columns] = std_scaler.transform(X_validation[standardize_columns])\n",
        "X_validation[minmax_columns] = minmax_scaler.transform(X_validation[minmax_columns])\n",
        "\n",
        "# PCA on the test set should also use the subspace obtained by performing PCA on training\n",
        "# we are projecting testing onto training's subspace\n",
        "# see here:\n",
        "# https://stats.stackexchange.com/questions/55718/pca-and-the-train-test-split\n",
        "# and here:\n",
        "# https://stats.stackexchange.com/questions/142216/zero-centering-the-testing-set-after-pca-on-the-training-set\n",
        "X_validation_biomass_pca = pca_train.transform(X_validation[['Stem', 'Branch', 'Leaf', 'Crown']])\n",
        "X_validation = replace_with_pca(X_validation, X_validation_biomass_pca)\n",
        "\n",
        "X_validation = remove_suspended_branch(X_validation)\n",
        "y_validation_log = log_trans(y_validation)\n",
        "X_validation = forest_collapse(X_validation)\n",
        "X_validation = species_collapse(X_validation)\n",
        "X_validation = categorical_onehot(X_validation, categorical_columns)"
      ],
      "metadata": {
        "colab": {
          "base_uri": "https://localhost:8080/"
        },
        "id": "Xdso6Gxfsyfe",
        "outputId": "00349dfc-9a05-439a-c316-e62b7d4d3bde"
      },
      "execution_count": 97,
      "outputs": [
        {
          "output_type": "stream",
          "name": "stdout",
          "text": [
            "ID                     0\n",
            "Province               0\n",
            "Study_site             0\n",
            "Latitude               0\n",
            "Longitude              0\n",
            "Altitude               0\n",
            "MAT                    0\n",
            "MAP                    0\n",
            "Soil_fertility         0\n",
            "Forest_type            0\n",
            "Dominant_species       0\n",
            "Stand_origin           0\n",
            "Stand_age             12\n",
            "Sample_size           19\n",
            "Method                 0\n",
            "Stem                   4\n",
            "Branch                12\n",
            "Leaf                  12\n",
            "Crown                  4\n",
            "Suspended_branches     0\n",
            "Sources                0\n",
            "dtype: int64\n",
            "Latitude               0\n",
            "Longitude              0\n",
            "Altitude               0\n",
            "MAT                    0\n",
            "MAP                    0\n",
            "Soil_fertility         0\n",
            "Forest_type            0\n",
            "Dominant_species       0\n",
            "Stand_origin           0\n",
            "Stand_age             12\n",
            "Stem                   4\n",
            "Branch                12\n",
            "Leaf                  12\n",
            "Crown                  4\n",
            "Suspended_branches     0\n",
            "dtype: int64\n",
            "(322, 15)\n",
            "(322, 15)\n"
          ]
        }
      ]
    },
    {
      "cell_type": "markdown",
      "source": [
        "### Write training and validation dataframes to csv"
      ],
      "metadata": {
        "id": "EeogcfhUuEzd"
      }
    },
    {
      "cell_type": "code",
      "source": [
        "print(X_train.shape)\n",
        "print(y_train.shape)"
      ],
      "metadata": {
        "colab": {
          "base_uri": "https://localhost:8080/"
        },
        "id": "8cTfb6xGd_Lj",
        "outputId": "9311ed6e-4eb6-4842-ee3a-59b20678b954"
      },
      "execution_count": 98,
      "outputs": [
        {
          "output_type": "stream",
          "name": "stdout",
          "text": [
            "(1284, 36)\n",
            "(1284,)\n"
          ]
        }
      ]
    },
    {
      "cell_type": "code",
      "source": [
        "train_df_combined = X_train.copy()\n",
        "y_train_log = y_train_log.reset_index(drop=True)\n",
        "train_df_combined['AGBt'] = y_train_log\n",
        "validation_df_combined = X_validation.copy()\n",
        "y_validation_log = y_validation_log.reset_index(drop=True)\n",
        "validation_df_combined['AGBt'] = y_validation_log\n",
        "train_df_combined.to_csv('train.csv', index=False)\n",
        "validation_df_combined.to_csv('validation.csv', index=False)"
      ],
      "metadata": {
        "id": "AxtlMlbQuJrH"
      },
      "execution_count": 99,
      "outputs": []
    },
    {
      "cell_type": "code",
      "source": [
        "print(train_df_combined.columns)\n",
        "print(validation_df_combined.columns)\n",
        "print(train_df_combined.shape)\n",
        "print(validation_df_combined.shape)"
      ],
      "metadata": {
        "colab": {
          "base_uri": "https://localhost:8080/"
        },
        "id": "YscvBWZ-aj2x",
        "outputId": "a1e8dfbd-7cd8-4ed1-8a87-74491c45cdf2"
      },
      "execution_count": 100,
      "outputs": [
        {
          "output_type": "stream",
          "name": "stdout",
          "text": [
            "Index(['Latitude', 'Longitude', 'Altitude', 'MAT', 'MAP', 'Soil_fertility',\n",
            "       'Forest_type', 'Dominant_species', 'Stand_origin', 'Stand_age', 'Stem',\n",
            "       'Branch', 'Leaf', 'Crown', 'pca_0', 'pca_1', 'I', 'II', 'III', 'IV',\n",
            "       'V', 'Cunninghamia_forest', 'Eucalyptus_forest', 'Larix_forest',\n",
            "       'Other_Forest_type', 'Pinus_forest', 'Populus_forest', 'C._lanceolata',\n",
            "       'L._gmelinii', 'Other_Dominant_species', 'P._koraiensis',\n",
            "       'P._massoniana', 'P._tabuliformis', 'Planted', 'Primary', 'Secondary',\n",
            "       'AGBt'],\n",
            "      dtype='object')\n",
            "Index(['Latitude', 'Longitude', 'Altitude', 'MAT', 'MAP', 'Soil_fertility',\n",
            "       'Forest_type', 'Dominant_species', 'Stand_origin', 'Stand_age', 'Stem',\n",
            "       'Branch', 'Leaf', 'Crown', 'pca_0', 'pca_1', 'I', 'II', 'III', 'IV',\n",
            "       'V', 'Cunninghamia_forest', 'Eucalyptus_forest', 'Larix_forest',\n",
            "       'Other_Forest_type', 'Pinus_forest', 'Populus_forest', 'C._lanceolata',\n",
            "       'L._gmelinii', 'Other_Dominant_species', 'P._koraiensis',\n",
            "       'P._massoniana', 'P._tabuliformis', 'Planted', 'Primary', 'Secondary',\n",
            "       'AGBt'],\n",
            "      dtype='object')\n",
            "(1284, 37)\n",
            "(322, 37)\n"
          ]
        }
      ]
    },
    {
      "cell_type": "code",
      "source": [
        "validation_df_combined.isna().sum()"
      ],
      "metadata": {
        "colab": {
          "base_uri": "https://localhost:8080/"
        },
        "id": "uFArIpuNfJ4d",
        "outputId": "e2bb2880-b3d4-41ad-f316-83b2957138a9"
      },
      "execution_count": 101,
      "outputs": [
        {
          "output_type": "execute_result",
          "data": {
            "text/plain": [
              "Latitude                  0\n",
              "Longitude                 0\n",
              "Altitude                  0\n",
              "MAT                       0\n",
              "MAP                       0\n",
              "Soil_fertility            0\n",
              "Forest_type               0\n",
              "Dominant_species          0\n",
              "Stand_origin              0\n",
              "Stand_age                 0\n",
              "Stem                      0\n",
              "Branch                    0\n",
              "Leaf                      0\n",
              "Crown                     0\n",
              "pca_0                     0\n",
              "pca_1                     0\n",
              "I                         0\n",
              "II                        0\n",
              "III                       0\n",
              "IV                        0\n",
              "V                         0\n",
              "Cunninghamia_forest       0\n",
              "Eucalyptus_forest         0\n",
              "Larix_forest              0\n",
              "Other_Forest_type         0\n",
              "Pinus_forest              0\n",
              "Populus_forest            0\n",
              "C._lanceolata             0\n",
              "L._gmelinii               0\n",
              "Other_Dominant_species    0\n",
              "P._koraiensis             0\n",
              "P._massoniana             0\n",
              "P._tabuliformis           0\n",
              "Planted                   0\n",
              "Primary                   0\n",
              "Secondary                 0\n",
              "AGBt                      0\n",
              "dtype: int64"
            ]
          },
          "metadata": {},
          "execution_count": 101
        }
      ]
    },
    {
      "cell_type": "markdown",
      "source": [
        "\n",
        "# LASSO and Tukey HSD will be performed in R"
      ],
      "metadata": {
        "id": "Tz5i5O8gYkhW"
      }
    },
    {
      "cell_type": "markdown",
      "source": [
        "# R csv output is the final output"
      ],
      "metadata": {
        "id": "4bNoiHjeYoZL"
      }
    },
    {
      "cell_type": "code",
      "source": [
        "sns.scatterplot(x='pca_0', y='AGBt', data=train_df_combined)"
      ],
      "metadata": {
        "colab": {
          "base_uri": "https://localhost:8080/",
          "height": 303
        },
        "id": "qD6uacWxK-DZ",
        "outputId": "2e541ae2-5ecc-4836-8285-f6998191a843"
      },
      "execution_count": 102,
      "outputs": [
        {
          "output_type": "execute_result",
          "data": {
            "text/plain": [
              "<matplotlib.axes._subplots.AxesSubplot at 0x7f628c9720a0>"
            ]
          },
          "metadata": {},
          "execution_count": 102
        },
        {
          "output_type": "display_data",
          "data": {
            "text/plain": [
              "<Figure size 432x288 with 1 Axes>"
            ],
            "image/png": "[encoded data removed]"
          },
          "metadata": {}
        }
      ]
    },
    {
      "cell_type": "code",
      "source": [
        "sns.scatterplot(x='Stand_age', y='AGBt', data=train_df_combined)"
      ],
      "metadata": {
        "colab": {
          "base_uri": "https://localhost:8080/",
          "height": 303
        },
        "id": "CCPxHjoXLhum",
        "outputId": "e52eea52-ff63-4c4c-b0cc-a2e9f031eec1"
      },
      "execution_count": 103,
      "outputs": [
        {
          "output_type": "execute_result",
          "data": {
            "text/plain": [
              "<matplotlib.axes._subplots.AxesSubplot at 0x7f628c7637f0>"
            ]
          },
          "metadata": {},
          "execution_count": 103
        },
        {
          "output_type": "display_data",
          "data": {
            "text/plain": [
              "<Figure size 432x288 with 1 Axes>"
            ],
            "image/png": "[encoded data removed]"
          },
          "metadata": {}
        }
      ]
    }
  ]
}